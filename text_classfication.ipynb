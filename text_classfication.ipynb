{
  "nbformat": 4,
  "nbformat_minor": 0,
  "metadata": {
    "kernelspec": {
      "language": "python",
      "display_name": "Python 3",
      "name": "python3"
    },
    "language_info": {
      "name": "python",
      "version": "3.7.9",
      "mimetype": "text/x-python",
      "codemirror_mode": {
        "name": "ipython",
        "version": 3
      },
      "pygments_lexer": "ipython3",
      "nbconvert_exporter": "python",
      "file_extension": ".py"
    },
    "colab": {
      "name": "text_classfication.ipynb",
      "provenance": [],
      "collapsed_sections": [],
      "include_colab_link": true
    },
    "accelerator": "GPU"
  },
  "cells": [
    {
      "cell_type": "markdown",
      "metadata": {
        "id": "view-in-github",
        "colab_type": "text"
      },
      "source": [
        "<a href=\"https://colab.research.google.com/github/fikrialghany/ModelCrowdfunding/blob/main/text_classfication.ipynb\" target=\"_parent\"><img src=\"https://colab.research.google.com/assets/colab-badge.svg\" alt=\"Open In Colab\"/></a>"
      ]
    },
    {
      "cell_type": "code",
      "metadata": {
        "_uuid": "8f2839f25d086af736a60e9eeb907d3b93b6e0e5",
        "_cell_guid": "b1076dfc-b9ad-4769-8c92-a6c4dae69d19",
        "execution": {
          "iopub.status.busy": "2021-06-08T16:41:40.593737Z",
          "iopub.execute_input": "2021-06-08T16:41:40.594157Z",
          "iopub.status.idle": "2021-06-08T16:41:41.205630Z",
          "shell.execute_reply.started": "2021-06-08T16:41:40.594120Z",
          "shell.execute_reply": "2021-06-08T16:41:41.204623Z"
        },
        "trusted": true,
        "colab": {
          "base_uri": "https://localhost:8080/"
        },
        "id": "Reifk5PWglPJ",
        "outputId": "ab5102ee-735d-4ce1-a1ae-7956bcd4ec4a"
      },
      "source": [
        "# CONNECT GOOGLE DRIVE\n",
        "from google.colab import drive\n",
        "drive.mount('/content/drive')"
      ],
      "execution_count": 1,
      "outputs": [
        {
          "output_type": "stream",
          "text": [
            "Mounted at /content/drive\n"
          ],
          "name": "stdout"
        }
      ]
    },
    {
      "cell_type": "code",
      "metadata": {
        "id": "ufzhcZ4Ng3Z6"
      },
      "source": [
        "import numpy as np\n",
        "import pandas as pd\n",
        "import time\n",
        "\n",
        "import re\n",
        "import seaborn as sns\n",
        "import matplotlib.pyplot as plt\n",
        "\n",
        "from sklearn.model_selection import train_test_split\n",
        "from sklearn.metrics import confusion_matrix,accuracy_score\n",
        "\n",
        "from tensorflow import keras\n",
        "from tensorflow.keras import layers\n",
        "from tensorflow.keras.preprocessing.text import Tokenizer\n",
        "from tensorflow.keras.preprocessing.sequence import pad_sequences\n",
        "\n",
        "data=pd.read_csv(\"/content/drive/My Drive/DATA/CROWDFUNDING/fake_job_postings.csv\",encoding='cp850')"
      ],
      "execution_count": 2,
      "outputs": []
    },
    {
      "cell_type": "markdown",
      "metadata": {
        "id": "0rLRtrQfglPO"
      },
      "source": [
        "# Data Preprocessing"
      ]
    },
    {
      "cell_type": "code",
      "metadata": {
        "execution": {
          "iopub.status.busy": "2021-06-08T16:41:46.712542Z",
          "iopub.execute_input": "2021-06-08T16:41:46.713175Z",
          "iopub.status.idle": "2021-06-08T16:41:46.756765Z",
          "shell.execute_reply.started": "2021-06-08T16:41:46.713141Z",
          "shell.execute_reply": "2021-06-08T16:41:46.756022Z"
        },
        "trusted": true,
        "colab": {
          "base_uri": "https://localhost:8080/",
          "height": 462
        },
        "id": "cx7uk8g4glPR",
        "outputId": "ae8ea694-f1aa-4c7b-d678-9f5fd6ecb146"
      },
      "source": [
        "data.head()"
      ],
      "execution_count": 3,
      "outputs": [
        {
          "output_type": "execute_result",
          "data": {
            "text/html": [
              "<div>\n",
              "<style scoped>\n",
              "    .dataframe tbody tr th:only-of-type {\n",
              "        vertical-align: middle;\n",
              "    }\n",
              "\n",
              "    .dataframe tbody tr th {\n",
              "        vertical-align: top;\n",
              "    }\n",
              "\n",
              "    .dataframe thead th {\n",
              "        text-align: right;\n",
              "    }\n",
              "</style>\n",
              "<table border=\"1\" class=\"dataframe\">\n",
              "  <thead>\n",
              "    <tr style=\"text-align: right;\">\n",
              "      <th></th>\n",
              "      <th>job_id</th>\n",
              "      <th>title</th>\n",
              "      <th>location</th>\n",
              "      <th>department</th>\n",
              "      <th>salary_range</th>\n",
              "      <th>company_profile</th>\n",
              "      <th>description</th>\n",
              "      <th>requirements</th>\n",
              "      <th>benefits</th>\n",
              "      <th>telecommuting</th>\n",
              "      <th>has_company_logo</th>\n",
              "      <th>has_questions</th>\n",
              "      <th>employment_type</th>\n",
              "      <th>required_experience</th>\n",
              "      <th>required_education</th>\n",
              "      <th>industry</th>\n",
              "      <th>function</th>\n",
              "      <th>fraudulent</th>\n",
              "    </tr>\n",
              "  </thead>\n",
              "  <tbody>\n",
              "    <tr>\n",
              "      <th>0</th>\n",
              "      <td>1</td>\n",
              "      <td>Marketing Intern</td>\n",
              "      <td>US, NY, New York</td>\n",
              "      <td>Marketing</td>\n",
              "      <td>NaN</td>\n",
              "      <td>We're Food52, and we've created a groundbreaki...</td>\n",
              "      <td>Food52, a fast-growing, James Beard Award-winn...</td>\n",
              "      <td>Experience with content management systems a m...</td>\n",
              "      <td>NaN</td>\n",
              "      <td>0</td>\n",
              "      <td>1</td>\n",
              "      <td>0</td>\n",
              "      <td>Other</td>\n",
              "      <td>Internship</td>\n",
              "      <td>NaN</td>\n",
              "      <td>NaN</td>\n",
              "      <td>Marketing</td>\n",
              "      <td>0</td>\n",
              "    </tr>\n",
              "    <tr>\n",
              "      <th>1</th>\n",
              "      <td>2</td>\n",
              "      <td>Customer Service - Cloud Video Production</td>\n",
              "      <td>NZ, , Auckland</td>\n",
              "      <td>Success</td>\n",
              "      <td>NaN</td>\n",
              "      <td>90 Seconds, the worlds Cloud Video Production ...</td>\n",
              "      <td>Organised - Focused - Vibrant - Awesome!Do you...</td>\n",
              "      <td>What we expect from you:Your key responsibilit...</td>\n",
              "      <td>What you will get from usThrough being part of...</td>\n",
              "      <td>0</td>\n",
              "      <td>1</td>\n",
              "      <td>0</td>\n",
              "      <td>Full-time</td>\n",
              "      <td>Not Applicable</td>\n",
              "      <td>NaN</td>\n",
              "      <td>Marketing and Advertising</td>\n",
              "      <td>Customer Service</td>\n",
              "      <td>0</td>\n",
              "    </tr>\n",
              "    <tr>\n",
              "      <th>2</th>\n",
              "      <td>3</td>\n",
              "      <td>Commissioning Machinery Assistant (CMA)</td>\n",
              "      <td>US, IA, Wever</td>\n",
              "      <td>NaN</td>\n",
              "      <td>NaN</td>\n",
              "      <td>Valor Services provides Workforce Solutions th...</td>\n",
              "      <td>Our client, located in Houston, is actively se...</td>\n",
              "      <td>Implement pre-commissioning and commissioning ...</td>\n",
              "      <td>NaN</td>\n",
              "      <td>0</td>\n",
              "      <td>1</td>\n",
              "      <td>0</td>\n",
              "      <td>NaN</td>\n",
              "      <td>NaN</td>\n",
              "      <td>NaN</td>\n",
              "      <td>NaN</td>\n",
              "      <td>NaN</td>\n",
              "      <td>0</td>\n",
              "    </tr>\n",
              "    <tr>\n",
              "      <th>3</th>\n",
              "      <td>4</td>\n",
              "      <td>Account Executive - Washington DC</td>\n",
              "      <td>US, DC, Washington</td>\n",
              "      <td>Sales</td>\n",
              "      <td>NaN</td>\n",
              "      <td>Our passion for improving quality of life thro...</td>\n",
              "      <td>THE COMPANY: ESRI ÔÇô Environmental Systems Re...</td>\n",
              "      <td>EDUCATION:┬áBachelorÔÇÖs or MasterÔÇÖs in GIS,...</td>\n",
              "      <td>Our culture is anything but corporateÔÇöwe hav...</td>\n",
              "      <td>0</td>\n",
              "      <td>1</td>\n",
              "      <td>0</td>\n",
              "      <td>Full-time</td>\n",
              "      <td>Mid-Senior level</td>\n",
              "      <td>Bachelor's Degree</td>\n",
              "      <td>Computer Software</td>\n",
              "      <td>Sales</td>\n",
              "      <td>0</td>\n",
              "    </tr>\n",
              "    <tr>\n",
              "      <th>4</th>\n",
              "      <td>5</td>\n",
              "      <td>Bill Review Manager</td>\n",
              "      <td>US, FL, Fort Worth</td>\n",
              "      <td>NaN</td>\n",
              "      <td>NaN</td>\n",
              "      <td>SpotSource Solutions LLC is a Global Human Cap...</td>\n",
              "      <td>JOB TITLE: Itemization Review ManagerLOCATION:...</td>\n",
              "      <td>QUALIFICATIONS:RN license in the State of Texa...</td>\n",
              "      <td>Full Benefits Offered</td>\n",
              "      <td>0</td>\n",
              "      <td>1</td>\n",
              "      <td>1</td>\n",
              "      <td>Full-time</td>\n",
              "      <td>Mid-Senior level</td>\n",
              "      <td>Bachelor's Degree</td>\n",
              "      <td>Hospital &amp; Health Care</td>\n",
              "      <td>Health Care Provider</td>\n",
              "      <td>0</td>\n",
              "    </tr>\n",
              "  </tbody>\n",
              "</table>\n",
              "</div>"
            ],
            "text/plain": [
              "   job_id  ... fraudulent\n",
              "0       1  ...          0\n",
              "1       2  ...          0\n",
              "2       3  ...          0\n",
              "3       4  ...          0\n",
              "4       5  ...          0\n",
              "\n",
              "[5 rows x 18 columns]"
            ]
          },
          "metadata": {
            "tags": []
          },
          "execution_count": 3
        }
      ]
    },
    {
      "cell_type": "markdown",
      "metadata": {
        "id": "ubvgHnseglPh"
      },
      "source": [
        "### Part 1: Concatenating Text Parts\n",
        "First, we'll start with dropping redundant features and concatenate others."
      ]
    },
    {
      "cell_type": "code",
      "metadata": {
        "execution": {
          "iopub.status.busy": "2021-06-08T16:42:11.454980Z",
          "iopub.execute_input": "2021-06-08T16:42:11.455546Z",
          "iopub.status.idle": "2021-06-08T16:42:11.463592Z",
          "shell.execute_reply.started": "2021-06-08T16:42:11.455497Z",
          "shell.execute_reply": "2021-06-08T16:42:11.462445Z"
        },
        "trusted": true,
        "id": "9kj0kS3EglPj"
      },
      "source": [
        "x = data.loc[:,[\"company_profile\",\"description\",\"requirements\",\"benefits\"]]\n",
        "y = data[\"fraudulent\"]\n"
      ],
      "execution_count": 4,
      "outputs": []
    },
    {
      "cell_type": "markdown",
      "metadata": {
        "id": "gBojV5eNglPl"
      },
      "source": [
        "* As we've seen from information table, there are NaN values in the set. We'll fill them with spaces."
      ]
    },
    {
      "cell_type": "code",
      "metadata": {
        "execution": {
          "iopub.status.busy": "2021-06-08T16:42:15.519539Z",
          "iopub.execute_input": "2021-06-08T16:42:15.519927Z",
          "iopub.status.idle": "2021-06-08T16:42:15.547807Z",
          "shell.execute_reply.started": "2021-06-08T16:42:15.519894Z",
          "shell.execute_reply": "2021-06-08T16:42:15.546374Z"
        },
        "trusted": true,
        "colab": {
          "base_uri": "https://localhost:8080/"
        },
        "id": "thQ2BY9CglPo",
        "outputId": "13a44858-27e6-4cdd-fe84-1f99656f6bf7"
      },
      "source": [
        "x.fillna(\" \",inplace=True)\n",
        "x.isnull().sum()"
      ],
      "execution_count": 5,
      "outputs": [
        {
          "output_type": "execute_result",
          "data": {
            "text/plain": [
              "company_profile    0\n",
              "description        0\n",
              "requirements       0\n",
              "benefits           0\n",
              "dtype: int64"
            ]
          },
          "metadata": {
            "tags": []
          },
          "execution_count": 5
        }
      ]
    },
    {
      "cell_type": "markdown",
      "metadata": {
        "id": "rssWQ8uxglPs"
      },
      "source": [
        "* Now let's concatenate texts."
      ]
    },
    {
      "cell_type": "code",
      "metadata": {
        "execution": {
          "iopub.status.busy": "2021-06-08T16:42:20.455830Z",
          "iopub.execute_input": "2021-06-08T16:42:20.456489Z",
          "iopub.status.idle": "2021-06-08T16:42:21.143491Z",
          "shell.execute_reply.started": "2021-06-08T16:42:20.456433Z",
          "shell.execute_reply": "2021-06-08T16:42:21.142563Z"
        },
        "trusted": true,
        "id": "gwvXnH5TglPu"
      },
      "source": [
        "concat_data = []\n",
        "for i in range(len(x)):\n",
        "    txt = x[\"company_profile\"][i] + \" \"\n",
        "    txt = txt + x[\"description\"][i] + \" \"\n",
        "    txt = txt + x[\"requirements\"][i] + \" \"\n",
        "    txt = txt + x[\"benefits\"][i]\n",
        "    concat_data.append(txt.strip())\n",
        "\n",
        "   "
      ],
      "execution_count": 6,
      "outputs": []
    },
    {
      "cell_type": "markdown",
      "metadata": {
        "id": "AGRln9L-glPw"
      },
      "source": [
        "* Now let's check our data"
      ]
    },
    {
      "cell_type": "code",
      "metadata": {
        "execution": {
          "iopub.status.busy": "2021-06-08T16:42:25.964524Z",
          "iopub.execute_input": "2021-06-08T16:42:25.965120Z",
          "iopub.status.idle": "2021-06-08T16:42:25.971748Z",
          "shell.execute_reply.started": "2021-06-08T16:42:25.965069Z",
          "shell.execute_reply": "2021-06-08T16:42:25.970524Z"
        },
        "trusted": true,
        "colab": {
          "base_uri": "https://localhost:8080/",
          "height": 137
        },
        "id": "xSDC3-SJglPx",
        "outputId": "9e59bc8c-e83d-4a4b-984d-e42d467a978f"
      },
      "source": [
        "concat_data[0]"
      ],
      "execution_count": 7,
      "outputs": [
        {
          "output_type": "execute_result",
          "data": {
            "application/vnd.google.colaboratory.intrinsic+json": {
              "type": "string"
            },
            "text/plain": [
              "\"We're Food52, and we've created a groundbreaking and award-winning cooking site. We support, connect, and celebrate home cooks, and give them everything they need in one place.We have a top editorial, business, and engineering team. We're focused on using technology to find new and better ways to connect people around their specific food interests, and to offer them superb, highly curated information about food and cooking. We attract the most talented home cooks and contributors in the country; we also publish well-known professionals like Mario Batali, Gwyneth Paltrow, and Danny Meyer. And we have partnerships with Whole Foods Market and Random House.Food52 has been named the best food website by the James Beard Foundation and IACP, and has been featured in the New York Times, NPR, Pando Daily, TechCrunch, and on the Today Show.We're located in Chelsea, in New York City. Food52, a fast-growing, James Beard Award-winning online food community and crowd-sourced and curated recipe hub, is currently interviewing full- and part-time unpaid interns to work in a small team of editors, executives, and developers in its New York City headquarters.Reproducing and/or repackaging existing Food52 content for a number of partner sites, such as Huffington Post, Yahoo, Buzzfeed, and more in their various content management systemsResearching blogs and websites for the Provisions by Food52 Affiliate ProgramAssisting in day-to-day affiliate program support, such as screening affiliates and assisting in any affiliate inquiriesSupporting with PR &amp; Events when neededHelping with office administrative work, such as filing, mailing, and preparing for meetingsWorking with developers to document bugs and suggest improvements to the siteSupporting the marketing and executive staff Experience with content management systems a major plus (any blogging counts!)Familiar with the Food52 editorial voice and aestheticLoves food, appreciates the importance of home cooking and cooking with the seasonsMeticulous editor, perfectionist, obsessive attention to detail, maddened by typos and broken links, delighted by finding and fixing themCheerful under pressureExcellent communication skillsA+ multi-tasker and juggler of responsibilities big and smallInterested in and engaged with social media like Twitter, Facebook, and PinterestLoves problem-solving and collaborating to drive Food52 forwardThinks big picture but pitches in on the nitty gritty of running a small company (dishes, shopping, administrative support)Comfortable with the realities of working for a startup: being on call on evenings and weekends, and working long hours\""
            ]
          },
          "metadata": {
            "tags": []
          },
          "execution_count": 7
        }
      ]
    },
    {
      "cell_type": "markdown",
      "metadata": {
        "id": "SA3raWQ0glPz"
      },
      "source": [
        "* There are too many information here, let's move on to the next step."
      ]
    },
    {
      "cell_type": "markdown",
      "metadata": {
        "id": "-gQbU9VDglP0"
      },
      "source": [
        "### Part 2: Cleaning Texts Using Regular Expressions\n",
        "As you can see in the texts there are too many redundant characters such as punctuation steps. In this part we'll clear texts using regular expressions."
      ]
    },
    {
      "cell_type": "code",
      "metadata": {
        "trusted": true,
        "id": "rothqRm4glP1"
      },
      "source": [
        "pattern = \"[^a-zA-Z]\"\n",
        "cleanedTexts = []\n",
        "for text in concat_data:\n",
        "    text = re.sub(pattern,\" \",text)\n",
        "    cleanedTexts.append(text.lower())\n"
      ],
      "execution_count": 8,
      "outputs": []
    },
    {
      "cell_type": "code",
      "metadata": {
        "trusted": true,
        "colab": {
          "base_uri": "https://localhost:8080/",
          "height": 137
        },
        "id": "Cv3NllnoglP3",
        "outputId": "970b4fa9-c75b-4cf9-9f85-0176f523cc19"
      },
      "source": [
        "cleanedTexts[0]"
      ],
      "execution_count": 9,
      "outputs": [
        {
          "output_type": "execute_result",
          "data": {
            "application/vnd.google.colaboratory.intrinsic+json": {
              "type": "string"
            },
            "text/plain": [
              "'we re food    and we ve created a groundbreaking and award winning cooking site  we support  connect  and celebrate home cooks  and give them everything they need in one place we have a top editorial  business  and engineering team  we re focused on using technology to find new and better ways to connect people around their specific food interests  and to offer them superb  highly curated information about food and cooking  we attract the most talented home cooks and contributors in the country  we also publish well known professionals like mario batali  gwyneth paltrow  and danny meyer  and we have partnerships with whole foods market and random house food   has been named the best food website by the james beard foundation and iacp  and has been featured in the new york times  npr  pando daily  techcrunch  and on the today show we re located in chelsea  in new york city  food    a fast growing  james beard award winning online food community and crowd sourced and curated recipe hub  is currently interviewing full  and part time unpaid interns to work in a small team of editors  executives  and developers in its new york city headquarters reproducing and or repackaging existing food   content for a number of partner sites  such as huffington post  yahoo  buzzfeed  and more in their various content management systemsresearching blogs and websites for the provisions by food   affiliate programassisting in day to day affiliate program support  such as screening affiliates and assisting in any affiliate inquiriessupporting with pr  amp  events when neededhelping with office administrative work  such as filing  mailing  and preparing for meetingsworking with developers to document bugs and suggest improvements to the sitesupporting the marketing and executive staff experience with content management systems a major plus  any blogging counts  familiar with the food   editorial voice and aestheticloves food  appreciates the importance of home cooking and cooking with the seasonsmeticulous editor  perfectionist  obsessive attention to detail  maddened by typos and broken links  delighted by finding and fixing themcheerful under pressureexcellent communication skillsa  multi tasker and juggler of responsibilities big and smallinterested in and engaged with social media like twitter  facebook  and pinterestloves problem solving and collaborating to drive food   forwardthinks big picture but pitches in on the nitty gritty of running a small company  dishes  shopping  administrative support comfortable with the realities of working for a startup  being on call on evenings and weekends  and working long hours'"
            ]
          },
          "metadata": {
            "tags": []
          },
          "execution_count": 9
        }
      ]
    },
    {
      "cell_type": "markdown",
      "metadata": {
        "id": "EgLHNGnvglP6"
      },
      "source": [
        "### Part 3: Tokenizing and Padding\n",
        "You know, in natural languages words are the representation of everything, such as we say *hi* when we see someone, h and i letters don't have any special meaning but hi has a special meaning. If 1 means hi, we can use it instead of hi.\n",
        "\n",
        "In this part we'll convert words into integers and texts into sequences. \n",
        "In deep learning we generally use dataset that has predefined shape. But in text dataset shapes might be different, such as one jobposting can have 100 words other can have 102 words. In order to solve this problem we can use different approaches, but in this kernel we'll use **padding**\n",
        "\n",
        "In padding we will add some spaces to the texts and make all texts with same shape."
      ]
    },
    {
      "cell_type": "code",
      "metadata": {
        "trusted": true,
        "id": "q-m4uX6cglP-"
      },
      "source": [
        "tokenizer = Tokenizer(num_words=10000)\n",
        "tokenizer.fit_on_texts(cleanedTexts)\n",
        "\n",
        "x_tokens = tokenizer.texts_to_sequences(cleanedTexts)"
      ],
      "execution_count": 10,
      "outputs": []
    },
    {
      "cell_type": "code",
      "metadata": {
        "trusted": true,
        "colab": {
          "base_uri": "https://localhost:8080/"
        },
        "id": "0IewhOjkglQA",
        "outputId": "3b1a4c0b-3414-4eea-cae0-965d489beb50"
      },
      "source": [
        "print(x_tokens[0])"
      ],
      "execution_count": 11,
      "outputs": [
        {
          "output_type": "stream",
          "text": [
            "[9, 53, 495, 1, 9, 407, 986, 4, 3873, 1, 876, 972, 2805, 312, 9, 79, 1371, 1, 4237, 214, 3773, 1, 687, 146, 820, 137, 166, 6, 95, 469, 9, 24, 4, 237, 2054, 34, 1, 156, 21, 9, 53, 488, 14, 151, 74, 2, 505, 40, 1, 479, 1000, 2, 1371, 54, 236, 43, 497, 495, 1931, 1, 2, 168, 146, 3386, 185, 3774, 141, 76, 495, 1, 2805, 9, 2515, 3, 178, 324, 214, 3773, 1, 5408, 6, 3, 1018, 9, 106, 3016, 86, 1640, 442, 121, 7213, 7316, 7124, 7125, 1, 7126, 7317, 1, 9, 24, 1142, 7, 1440, 2461, 182, 1, 5061, 646, 495, 105, 325, 2329, 3, 99, 495, 240, 39, 3, 4997, 6114, 1366, 1, 7318, 1, 105, 325, 3509, 6, 3, 40, 671, 804, 7127, 7319, 310, 4871, 1, 14, 3, 518, 1220, 9, 53, 457, 6, 6063, 6, 40, 671, 613, 495, 4, 124, 112, 4997, 6114, 876, 972, 150, 495, 260, 1, 4902, 5734, 1, 3774, 7320, 3387, 11, 351, 2377, 96, 1, 120, 49, 6491, 2136, 2, 19, 6, 4, 259, 21, 5, 4754, 1375, 1, 448, 6, 224, 40, 671, 613, 1938, 1, 18, 339, 495, 212, 8, 4, 536, 5, 472, 877, 193, 15, 839, 3577, 1, 67, 6, 43, 340, 212, 44, 2796, 1, 878, 8, 3, 5735, 39, 495, 2690, 6, 135, 2, 135, 2690, 300, 79, 193, 15, 1468, 5089, 1, 1053, 6, 190, 2690, 7, 1354, 45, 359, 184, 7, 109, 742, 19, 193, 15, 1592, 2217, 1, 1388, 8, 7, 448, 2, 478, 3685, 1, 4213, 1441, 2, 3, 3, 61, 1, 624, 221, 17, 7, 212, 44, 147, 4, 692, 220, 190, 5447, 4304, 1173, 7, 3, 495, 2054, 1506, 1, 495, 3, 2666, 5, 214, 2805, 1, 2805, 7, 3, 2858, 4671, 435, 2, 409, 39, 1, 4755, 2492, 8278, 39, 788, 1, 4255, 527, 88, 3874, 390, 5589, 1, 5, 174, 349, 1, 6, 1, 2751, 7, 134, 126, 121, 1048, 859, 1, 373, 453, 1, 2482, 2, 209, 495, 349, 2230, 90, 4672, 6, 14, 3, 5, 908, 4, 259, 30, 6767, 1932, 742, 79, 712, 7, 3, 9697, 5, 46, 8, 4, 279, 341, 14, 543, 14, 2887, 1, 1753, 1, 46, 232, 222]\n"
          ],
          "name": "stdout"
        }
      ]
    },
    {
      "cell_type": "markdown",
      "metadata": {
        "id": "KkgoLu13glQB"
      },
      "source": [
        "* Now let's create a sequence that includes length of arrays and find Q3 value."
      ]
    },
    {
      "cell_type": "code",
      "metadata": {
        "trusted": true,
        "colab": {
          "base_uri": "https://localhost:8080/"
        },
        "id": "bj2JmPMyglQC",
        "outputId": "4452323f-7d61-474d-8a0a-2805e0a1e30e"
      },
      "source": [
        "seq_lens = [len(seq) for seq in x_tokens]\n",
        "q3 = np.quantile(seq_lens,.75)\n",
        "print(q3)"
      ],
      "execution_count": 12,
      "outputs": [
        {
          "output_type": "stream",
          "text": [
            "502.0\n"
          ],
          "name": "stdout"
        }
      ]
    },
    {
      "cell_type": "markdown",
      "metadata": {
        "id": "Pt7lG5I4glQD"
      },
      "source": [
        "* All texts will have shape 502"
      ]
    },
    {
      "cell_type": "code",
      "metadata": {
        "trusted": true,
        "id": "roKevQEZglQE"
      },
      "source": [
        "x_tokens_pad = np.asarray(pad_sequences(x_tokens,maxlen=int(q3)))"
      ],
      "execution_count": 13,
      "outputs": []
    },
    {
      "cell_type": "code",
      "metadata": {
        "trusted": true,
        "colab": {
          "base_uri": "https://localhost:8080/"
        },
        "id": "d1NtuhvaglQF",
        "outputId": "ae8f1b00-a71f-4fe8-e77f-0fb998e682ad"
      },
      "source": [
        "x_tokens_pad.shape"
      ],
      "execution_count": 14,
      "outputs": [
        {
          "output_type": "execute_result",
          "data": {
            "text/plain": [
              "(17880, 502)"
            ]
          },
          "metadata": {
            "tags": []
          },
          "execution_count": 14
        }
      ]
    },
    {
      "cell_type": "markdown",
      "metadata": {
        "id": "j-Tz3svSglQG"
      },
      "source": [
        "### Step 4: Train Test Splitting\n",
        "In this section we'll split the dataset into train and test, to test dataset truly."
      ]
    },
    {
      "cell_type": "code",
      "metadata": {
        "trusted": true,
        "colab": {
          "base_uri": "https://localhost:8080/"
        },
        "id": "Gf8THhZxglQI",
        "outputId": "da915ef0-a9b7-42a1-9bc7-1aceb5153a32"
      },
      "source": [
        "x_train,x_test,y_train,y_test = train_test_split(x_tokens_pad,y,test_size=0.2,random_state=42)\n",
        "print(x_train.shape)\n",
        "print(x_test.shape)\n",
        "print(y_train.shape)\n",
        "print(y_test.shape)"
      ],
      "execution_count": 15,
      "outputs": [
        {
          "output_type": "stream",
          "text": [
            "(14304, 502)\n",
            "(3576, 502)\n",
            "(14304,)\n",
            "(3576,)\n"
          ],
          "name": "stdout"
        }
      ]
    },
    {
      "cell_type": "markdown",
      "metadata": {
        "id": "ihigycvQglQL"
      },
      "source": [
        "# Building Model\n",
        "In this section I am going to build the model using keras API of Tensorflow. I'll use the developed version of RNNs, GRU, Gated Recurrent Unit. We don't use SimpleRNN, because it has a problem called *vanishing gradient* because of backpropagation.\n"
      ]
    },
    {
      "cell_type": "code",
      "metadata": {
        "trusted": true,
        "id": "Dt4vXtrbglQN"
      },
      "source": [
        "VOCAB_SIZE = 10000 + 1\n",
        "VEC_SIZE = 100\n",
        "TOKEN_SIZE = int(q3)\n"
      ],
      "execution_count": 16,
      "outputs": []
    },
    {
      "cell_type": "code",
      "metadata": {
        "trusted": true,
        "id": "5FTLpmJGglQP"
      },
      "source": [
        "from tensorflow.compat.v1.keras.layers import CuDNNGRU\n",
        "model = keras.Sequential()\n",
        "model.add(layers.Embedding(input_dim=VOCAB_SIZE,\n",
        "                           output_dim=VEC_SIZE,\n",
        "                           input_length=TOKEN_SIZE\n",
        "                          ))\n",
        "\n",
        "\n",
        "\n",
        "model.add(CuDNNGRU(512,return_sequences=True))\n",
        "model.add(CuDNNGRU(1024,return_sequences=True))\n",
        "model.add(CuDNNGRU(2048))\n",
        "model.add(layers.Dense(1,activation=\"sigmoid\"))\n",
        "\n",
        "model.compile(loss=\"binary_crossentropy\",optimizer=\"adam\",metrics=[\"accuracy\"])\n"
      ],
      "execution_count": 17,
      "outputs": []
    },
    {
      "cell_type": "code",
      "metadata": {
        "trusted": true,
        "colab": {
          "base_uri": "https://localhost:8080/"
        },
        "id": "GkPNa2-eglQU",
        "outputId": "4e4a4889-1531-40f7-c112-138814dc18e4"
      },
      "source": [
        "model.summary()"
      ],
      "execution_count": 18,
      "outputs": [
        {
          "output_type": "stream",
          "text": [
            "Model: \"sequential\"\n",
            "_________________________________________________________________\n",
            "Layer (type)                 Output Shape              Param #   \n",
            "=================================================================\n",
            "embedding (Embedding)        (None, 502, 100)          1000100   \n",
            "_________________________________________________________________\n",
            "cu_dnngru (CuDNNGRU)         (None, 502, 512)          943104    \n",
            "_________________________________________________________________\n",
            "cu_dnngru_1 (CuDNNGRU)       (None, 502, 1024)         4724736   \n",
            "_________________________________________________________________\n",
            "cu_dnngru_2 (CuDNNGRU)       (None, 2048)              18886656  \n",
            "_________________________________________________________________\n",
            "dense (Dense)                (None, 1)                 2049      \n",
            "=================================================================\n",
            "Total params: 25,556,645\n",
            "Trainable params: 25,556,645\n",
            "Non-trainable params: 0\n",
            "_________________________________________________________________\n"
          ],
          "name": "stdout"
        }
      ]
    },
    {
      "cell_type": "markdown",
      "metadata": {
        "id": "487vsoj8glQV"
      },
      "source": [
        "# Training Model"
      ]
    },
    {
      "cell_type": "code",
      "metadata": {
        "trusted": true,
        "colab": {
          "base_uri": "https://localhost:8080/"
        },
        "id": "HKCe8H0dglQX",
        "outputId": "28099c74-8d43-47d5-e556-1b8027740c51"
      },
      "source": [
        "hist = model.fit(x_train,y_train,validation_split=0.2,epochs=2)"
      ],
      "execution_count": 19,
      "outputs": [
        {
          "output_type": "stream",
          "text": [
            "Epoch 1/2\n",
            "358/358 [==============================] - 311s 840ms/step - loss: nan - accuracy: 0.9521 - val_loss: nan - val_accuracy: 0.9493\n",
            "Epoch 2/2\n",
            "358/358 [==============================] - 285s 797ms/step - loss: nan - accuracy: 0.9528 - val_loss: nan - val_accuracy: 0.9493\n"
          ],
          "name": "stdout"
        }
      ]
    },
    {
      "cell_type": "markdown",
      "metadata": {
        "id": "V_MpABYHglQY"
      },
      "source": [
        "# Testing Model"
      ]
    },
    {
      "cell_type": "code",
      "metadata": {
        "trusted": true,
        "colab": {
          "base_uri": "https://localhost:8080/",
          "height": 350
        },
        "id": "fpKbnaywglQc",
        "outputId": "df2fd809-01a7-4b5a-beca-4c4e3554255a"
      },
      "source": [
        "y_test = np.asarray(y_test)\n",
        "y_pred = model.predict_classes(x_test)\n",
        "\n",
        "print(\"Accuracy score of model is {}%\".format(accuracy_score(y_pred=y_pred,y_true=y_test)*100))\n",
        "\n",
        "plt.subplots(figsize=(4,4))\n",
        "conf_matrix = confusion_matrix(y_pred=y_pred,y_true=y_test)\n",
        "sns.heatmap(conf_matrix,annot=True,fmt=\".1f\",linewidths=1.5)\n",
        "plt.xlabel(\"Predicted Label\")\n",
        "plt.ylabel(\"Actual Label\")\n",
        "plt.show()\n"
      ],
      "execution_count": 20,
      "outputs": [
        {
          "output_type": "stream",
          "text": [
            "/usr/local/lib/python3.7/dist-packages/tensorflow/python/keras/engine/sequential.py:455: UserWarning: `model.predict_classes()` is deprecated and will be removed after 2021-01-01. Please use instead:* `np.argmax(model.predict(x), axis=-1)`,   if your model does multi-class classification   (e.g. if it uses a `softmax` last-layer activation).* `(model.predict(x) > 0.5).astype(\"int32\")`,   if your model does binary classification   (e.g. if it uses a `sigmoid` last-layer activation).\n",
            "  warnings.warn('`model.predict_classes()` is deprecated and '\n"
          ],
          "name": "stderr"
        },
        {
          "output_type": "stream",
          "text": [
            "Accuracy score of model is 94.93847874720358%\n"
          ],
          "name": "stdout"
        },
        {
          "output_type": "display_data",
          "data": {
            "image/png": "[encoded data removed]",
            "text/plain": [
              "<Figure size 288x288 with 2 Axes>"
            ]
          },
          "metadata": {
            "tags": [],
            "needs_background": "light"
          }
        }
      ]
    }
  ]
}